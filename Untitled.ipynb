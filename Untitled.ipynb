{
 "cells": [
  {
   "cell_type": "code",
   "execution_count": 1,
   "id": "1d795814-731b-4f8b-a4ec-82668183d083",
   "metadata": {
    "tags": []
   },
   "outputs": [],
   "source": [
    "#Loading necessary packages\n",
    "import warnings\n",
    "warnings.filterwarnings('ignore')\n",
    "import matplotlib.pyplot as plt\n",
    "import seaborn as sns\n",
    "import gensim\n",
    "from gensim.models import CoherenceModel\n",
    "from gensim import corpora\n",
    "import pandas as pd\n",
    "from pprint import pprint\n",
    "import string\n",
    "import os\n",
    "import re"
   ]
  },
  {
   "cell_type": "code",
   "execution_count": null,
   "id": "f2f935b8-9bf5-4715-9fcd-1c5907ea8848",
   "metadata": {},
   "outputs": [],
   "source": [
    "#data loader class\n",
    "class DataLoader:\n",
    "  def __init__(self,dir_name,file_name):\n",
    "    self.dir_name=dir_name\n",
    "    self.file_name = file_name\n",
    "\n",
    "\n",
    "  def read_csv(self):\n",
    "    os.chdir(self.dir_name)\n",
    "    tweets_df=pd.read_csv(self.file_name)\n",
    "    return tweets_df\n",
    "\n"
   ]
  },
  {
   "cell_type": "code",
   "execution_count": null,
   "id": "4d5d2b3c-d207-4181-9843-260120eb29ea",
   "metadata": {},
   "outputs": [],
   "source": [
    "#object creation\n",
    "DataLoader_obj= DataLoader('drive/MyDrive','cleaned_fintech_data.csv')"
   ]
  },
  {
   "cell_type": "code",
   "execution_count": null,
   "id": "5a81c803-f209-49cc-88bc-70c57b2abd5e",
   "metadata": {},
   "outputs": [],
   "source": [
    "tweets_df=DataLoader_obj.read_csv()\n",
    "tweets_df.dropna()\n"
   ]
  }
 ],
 "metadata": {
  "kernelspec": {
   "display_name": "Python 3 (ipykernel)",
   "language": "python",
   "name": "python3"
  },
  "language_info": {
   "codemirror_mode": {
    "name": "ipython",
    "version": 3
   },
   "file_extension": ".py",
   "mimetype": "text/x-python",
   "name": "python",
   "nbconvert_exporter": "python",
   "pygments_lexer": "ipython3",
   "version": "3.11.5"
  }
 },
 "nbformat": 4,
 "nbformat_minor": 5
}
